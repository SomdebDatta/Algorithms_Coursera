{
 "cells": [
  {
   "cell_type": "code",
   "execution_count": 2,
   "id": "1d93f46f",
   "metadata": {},
   "outputs": [],
   "source": [
    "import torch\n",
    "from IPython.display import Image  \n",
    "import os \n",
    "from sklearn.model_selection import train_test_split\n",
    "import xml.etree.ElementTree as ET\n",
    "from tqdm import tqdm\n",
    "from xml.dom import minidom\n",
    "import numpy as np\n",
    "import matplotlib.pyplot as plt\n",
    "import random\n",
    "from PIL import Image, ImageDraw\n",
    "import shutil"
   ]
  },
  {
   "cell_type": "code",
   "execution_count": 3,
   "id": "3497d8c2",
   "metadata": {},
   "outputs": [],
   "source": [
    "def read_anno(xml_file):\n",
    "    root = ET.parse(xml_file).getroot()\n",
    "    \n",
    "    info_dict = {}\n",
    "    info_dict['bboxes'] = []\n",
    "\n",
    "    for elem in root:\n",
    "        if elem.tag == \"filename\":\n",
    "            info_dict['filename'] = elem.text\n",
    "            \n",
    "        elif elem.tag == \"size\":\n",
    "            image_size = []\n",
    "            for subelem in elem:\n",
    "                image_size.append(int(subelem.text))\n",
    "            \n",
    "            info_dict['image_size'] = tuple(image_size)\n",
    "       \n",
    "        elif elem.tag == \"object\":\n",
    "            bbox = {}\n",
    "            for subelem in elem:\n",
    "                if subelem.tag == \"name\":\n",
    "                    bbox[\"class\"] = subelem.text\n",
    "                    \n",
    "                elif subelem.tag == \"bndbox\":\n",
    "                    for subsubelem in subelem:\n",
    "                        bbox[subsubelem.tag] = int(subsubelem.text)            \n",
    "            info_dict['bboxes'].append(bbox)\n",
    "    \n",
    "    return info_dict"
   ]
  },
  {
   "cell_type": "code",
   "execution_count": 18,
   "id": "bbe0a7e7",
   "metadata": {},
   "outputs": [
    {
     "name": "stdout",
     "output_type": "stream",
     "text": [
      "{'bboxes': [{'class': 'normal', 'xmin': 2160, 'ymin': 592, 'xmax': 2333, 'ymax': 821}, {'class': 'normal', 'xmin': 1820, 'ymin': 681, 'xmax': 1880, 'ymax': 881}, {'class': 'normal', 'xmin': 1738, 'ymin': 654, 'xmax': 1831, 'ymax': 894}, {'class': 'normal', 'xmin': 1640, 'ymin': 654, 'xmax': 1756, 'ymax': 896}, {'class': 'normal', 'xmin': 1536, 'ymin': 670, 'xmax': 1638, 'ymax': 894}, {'class': 'normal', 'xmin': 1462, 'ymin': 674, 'xmax': 1536, 'ymax': 876}, {'class': 'normal', 'xmin': 953, 'ymin': 545, 'xmax': 1098, 'ymax': 792}, {'class': 'normal', 'xmin': 1098, 'ymin': 583, 'xmax': 1236, 'ymax': 841}, {'class': 'normal', 'xmin': 1236, 'ymin': 596, 'xmax': 1302, 'ymax': 870}, {'class': 'normal', 'xmin': 1391, 'ymin': 654, 'xmax': 1462, 'ymax': 865}, {'class': 'normal', 'xmin': 1976, 'ymin': 625, 'xmax': 2062, 'ymax': 852}, {'class': 'normal', 'xmin': 1898, 'ymin': 907, 'xmax': 2016, 'ymax': 1103}, {'class': 'normal', 'xmin': 1827, 'ymin': 912, 'xmax': 1907, 'ymax': 1134}, {'class': 'normal', 'xmin': 1753, 'ymin': 903, 'xmax': 1833, 'ymax': 1167}, {'class': 'normal', 'xmin': 1687, 'ymin': 903, 'xmax': 1758, 'ymax': 1158}, {'class': 'normal', 'xmin': 1625, 'ymin': 892, 'xmax': 1698, 'ymax': 1165}, {'class': 'normal', 'xmin': 1562, 'ymin': 887, 'xmax': 1629, 'ymax': 1170}, {'class': 'normal', 'xmin': 1500, 'ymin': 903, 'xmax': 1565, 'ymax': 1185}, {'class': 'normal', 'xmin': 1429, 'ymin': 907, 'xmax': 1502, 'ymax': 1176}, {'class': 'normal', 'xmin': 1345, 'ymin': 914, 'xmax': 1411, 'ymax': 1150}, {'class': 'normal', 'xmin': 902, 'ymin': 778, 'xmax': 1016, 'ymax': 990}, {'class': 'class 1', 'xmin': 2107, 'ymin': 858, 'xmax': 2320, 'ymax': 1092}, {'class': 'class 1', 'xmin': 2053, 'ymin': 603, 'xmax': 2180, 'ymax': 863}, {'class': 'class 1', 'xmin': 1265, 'ymin': 903, 'xmax': 1331, 'ymax': 1170}, {'class': 'class 6', 'xmin': 1011, 'ymin': 852, 'xmax': 1191, 'ymax': 1063}, {'class': 'class 1', 'xmin': 1302, 'ymin': 621, 'xmax': 1405, 'ymax': 867}, {'class': 'class 2', 'xmin': 1860, 'ymin': 634, 'xmax': 2007, 'ymax': 854}], 'filename': '24.bmp', 'image_size': (3292, 1536, 3)}\n"
     ]
    }
   ],
   "source": [
    "print(read_anno('D:/Research Paper/Teeth Paper/Teeth-Extraction-master/annotations/24.xml'))"
   ]
  },
  {
   "cell_type": "code",
   "execution_count": 7,
   "id": "44c30776",
   "metadata": {},
   "outputs": [],
   "source": [
    "class_name_to_id_mapping = {\"normal\": 0, \"class 1\": 1, \"class 2\": 2, \"class 3\": 3, \"class 4\": 4, \"class 5\": 5, \"class 6\": 6}"
   ]
  },
  {
   "cell_type": "code",
   "execution_count": 9,
   "id": "53eeb3d0",
   "metadata": {},
   "outputs": [],
   "source": [
    "info_dict = read_anno('D:/Research Paper/Teeth Paper/Teeth-Extraction-master/annotations/22.xml')"
   ]
  },
  {
   "cell_type": "code",
   "execution_count": 10,
   "id": "1147473e",
   "metadata": {},
   "outputs": [
    {
     "data": {
      "text/plain": [
       "{'bboxes': [{'class': 'normal',\n",
       "   'xmin': 2236,\n",
       "   'ymin': 761,\n",
       "   'xmax': 2505,\n",
       "   'ymax': 1038},\n",
       "  {'class': 'normal', 'xmin': 2051, 'ymin': 796, 'xmax': 2240, 'ymax': 1078},\n",
       "  {'class': 'normal', 'xmin': 1978, 'ymin': 823, 'xmax': 2089, 'ymax': 1072},\n",
       "  {'class': 'normal', 'xmin': 1882, 'ymin': 827, 'xmax': 1985, 'ymax': 1085},\n",
       "  {'class': 'normal', 'xmin': 1799, 'ymin': 842, 'xmax': 1888, 'ymax': 1100},\n",
       "  {'class': 'normal', 'xmin': 1722, 'ymin': 841, 'xmax': 1796, 'ymax': 1116},\n",
       "  {'class': 'normal', 'xmin': 1651, 'ymin': 841, 'xmax': 1727, 'ymax': 1132},\n",
       "  {'class': 'normal', 'xmin': 1582, 'ymin': 832, 'xmax': 1662, 'ymax': 1138},\n",
       "  {'class': 'normal', 'xmin': 1500, 'ymin': 836, 'xmax': 1576, 'ymax': 1107},\n",
       "  {'class': 'normal', 'xmin': 1418, 'ymin': 845, 'xmax': 1500, 'ymax': 1110},\n",
       "  {'class': 'normal', 'xmin': 1313, 'ymin': 843, 'xmax': 1405, 'ymax': 1092},\n",
       "  {'class': 'normal', 'xmin': 1227, 'ymin': 832, 'xmax': 1331, 'ymax': 1105},\n",
       "  {'class': 'normal', 'xmin': 1075, 'ymin': 807, 'xmax': 1233, 'ymax': 1112},\n",
       "  {'class': 'normal', 'xmin': 907, 'ymin': 776, 'xmax': 1060, 'ymax': 1090},\n",
       "  {'class': 'normal', 'xmin': 725, 'ymin': 738, 'xmax': 902, 'ymax': 981},\n",
       "  {'class': 'normal', 'xmin': 2411, 'ymin': 516, 'xmax': 2531, 'ymax': 741},\n",
       "  {'class': 'normal', 'xmin': 2258, 'ymin': 547, 'xmax': 2409, 'ymax': 747},\n",
       "  {'class': 'normal', 'xmin': 2116, 'ymin': 536, 'xmax': 2253, 'ymax': 774},\n",
       "  {'class': 'normal', 'xmin': 2002, 'ymin': 585, 'xmax': 2100, 'ymax': 787},\n",
       "  {'class': 'normal', 'xmin': 1891, 'ymin': 585, 'xmax': 2013, 'ymax': 807},\n",
       "  {'class': 'normal', 'xmin': 1813, 'ymin': 618, 'xmax': 1916, 'ymax': 812},\n",
       "  {'class': 'normal', 'xmin': 1725, 'ymin': 607, 'xmax': 1827, 'ymax': 810},\n",
       "  {'class': 'normal', 'xmin': 1622, 'ymin': 618, 'xmax': 1720, 'ymax': 841},\n",
       "  {'class': 'normal', 'xmin': 1505, 'ymin': 616, 'xmax': 1618, 'ymax': 841},\n",
       "  {'class': 'normal', 'xmin': 1409, 'ymin': 576, 'xmax': 1511, 'ymax': 838},\n",
       "  {'class': 'normal', 'xmin': 1327, 'ymin': 561, 'xmax': 1416, 'ymax': 821},\n",
       "  {'class': 'normal', 'xmin': 1222, 'ymin': 550, 'xmax': 1331, 'ymax': 814},\n",
       "  {'class': 'normal', 'xmin': 1129, 'ymin': 567, 'xmax': 1242, 'ymax': 778},\n",
       "  {'class': 'normal', 'xmin': 989, 'ymin': 538, 'xmax': 1140, 'ymax': 781},\n",
       "  {'class': 'normal', 'xmin': 853, 'ymin': 521, 'xmax': 987, 'ymax': 754},\n",
       "  {'class': 'normal', 'xmin': 731, 'ymin': 534, 'xmax': 851, 'ymax': 716}],\n",
       " 'filename': '22.bmp',\n",
       " 'image_size': (3292, 1536, 3)}"
      ]
     },
     "execution_count": 10,
     "metadata": {},
     "output_type": "execute_result"
    }
   ],
   "source": [
    "info_dict"
   ]
  },
  {
   "cell_type": "code",
   "execution_count": 12,
   "id": "c5fccc4c",
   "metadata": {},
   "outputs": [],
   "source": [
    "def convert_to_yolov3(info_dict):\n",
    "    print_buffer = []\n",
    "    \n",
    "    # For each bounding box\n",
    "    for b in info_dict[\"bboxes\"]:\n",
    "        try:\n",
    "            class_id = class_name_to_id_mapping[b[\"class\"]]\n",
    "        except KeyError:\n",
    "            print(\"Invalid Class. Must be one from \", class_name_to_id_mapping.keys())\n",
    "        \n",
    "        # Transform the bbox co-ordinates as per the format required by YOLO v3\n",
    "        b_center_x = (b[\"xmin\"] + b[\"xmax\"]) / 2 \n",
    "        b_center_y = (b[\"ymin\"] + b[\"ymax\"]) / 2\n",
    "        b_width    = (b[\"xmax\"] - b[\"xmin\"])\n",
    "        b_height   = (b[\"ymax\"] - b[\"ymin\"])\n",
    "        \n",
    "        # Normalise the co-ordinates by the dimensions of the image\n",
    "        image_w, image_h, image_c = info_dict[\"image_size\"]  \n",
    "        b_center_x /= image_w \n",
    "        b_center_y /= image_h \n",
    "        b_width    /= image_w \n",
    "        b_height   /= image_h \n",
    "        \n",
    "        #Write the bbox details to the file \n",
    "        print_buffer.append(\"{} {:.3f} {:.3f} {:.3f} {:.3f}\".format(class_id, b_center_x, b_center_y, b_width, b_height))\n",
    "        \n",
    "    # Name of the file which we have to save \n",
    "    save_file_name = os.path.join(\"annotations\", info_dict[\"filename\"].replace(\"bmp\", \"txt\"))\n",
    "    \n",
    "    # Save the annotation to disk\n",
    "    print(\"\\n\".join(print_buffer), file= open(save_file_name, \"w\"))"
   ]
  },
  {
   "cell_type": "code",
   "execution_count": 14,
   "id": "c596b6d6",
   "metadata": {},
   "outputs": [
    {
     "ename": "FileNotFoundError",
     "evalue": "[Errno 2] No such file or directory: 'annotations\\\\22.txt'",
     "output_type": "error",
     "traceback": [
      "\u001b[1;31m---------------------------------------------------------------------------\u001b[0m",
      "\u001b[1;31mFileNotFoundError\u001b[0m                         Traceback (most recent call last)",
      "\u001b[1;32m<ipython-input-14-254d5f080a64>\u001b[0m in \u001b[0;36m<module>\u001b[1;34m\u001b[0m\n\u001b[0;32m      1\u001b[0m \u001b[0minfo_dict\u001b[0m \u001b[1;33m=\u001b[0m \u001b[0mread_anno\u001b[0m\u001b[1;33m(\u001b[0m\u001b[1;34m'D:/Research Paper/Teeth Paper/Teeth-Extraction-master/annotations/22.xml'\u001b[0m\u001b[1;33m)\u001b[0m\u001b[1;33m\u001b[0m\u001b[1;33m\u001b[0m\u001b[0m\n\u001b[1;32m----> 2\u001b[1;33m \u001b[0mconvert_to_yolov5\u001b[0m\u001b[1;33m(\u001b[0m\u001b[0minfo_dict\u001b[0m\u001b[1;33m)\u001b[0m\u001b[1;33m\u001b[0m\u001b[1;33m\u001b[0m\u001b[0m\n\u001b[0m",
      "\u001b[1;32m<ipython-input-11-5b7cc28f83e4>\u001b[0m in \u001b[0;36mconvert_to_yolov5\u001b[1;34m(info_dict)\u001b[0m\n\u001b[0;32m     29\u001b[0m \u001b[1;33m\u001b[0m\u001b[0m\n\u001b[0;32m     30\u001b[0m     \u001b[1;31m# Save the annotation to disk\u001b[0m\u001b[1;33m\u001b[0m\u001b[1;33m\u001b[0m\u001b[1;33m\u001b[0m\u001b[0m\n\u001b[1;32m---> 31\u001b[1;33m     \u001b[0mprint\u001b[0m\u001b[1;33m(\u001b[0m\u001b[1;34m\"\\n\"\u001b[0m\u001b[1;33m.\u001b[0m\u001b[0mjoin\u001b[0m\u001b[1;33m(\u001b[0m\u001b[0mprint_buffer\u001b[0m\u001b[1;33m)\u001b[0m\u001b[1;33m,\u001b[0m \u001b[0mfile\u001b[0m\u001b[1;33m=\u001b[0m \u001b[0mopen\u001b[0m\u001b[1;33m(\u001b[0m\u001b[0msave_file_name\u001b[0m\u001b[1;33m,\u001b[0m \u001b[1;34m\"w\"\u001b[0m\u001b[1;33m)\u001b[0m\u001b[1;33m)\u001b[0m\u001b[1;33m\u001b[0m\u001b[1;33m\u001b[0m\u001b[0m\n\u001b[0m",
      "\u001b[1;31mFileNotFoundError\u001b[0m: [Errno 2] No such file or directory: 'annotations\\\\22.txt'"
     ]
    }
   ],
   "source": [
    "info_dict = read_anno('D:/Research Paper/Teeth Paper/Teeth-Extraction-master/annotations/22.xml')\n",
    "convert_to_yolov5(info_dict)"
   ]
  },
  {
   "cell_type": "code",
   "execution_count": null,
   "id": "d9a38343",
   "metadata": {},
   "outputs": [],
   "source": []
  },
  {
   "cell_type": "code",
   "execution_count": 13,
   "id": "0e810b0b",
   "metadata": {},
   "outputs": [
    {
     "name": "stderr",
     "output_type": "stream",
     "text": [
      "100%|██████████| 9000000/9000000 [00:04<00:00, 1897816.15it/s]\n"
     ]
    }
   ],
   "source": [
    "for i in tqdm(range(int(9e6))):\n",
    "    pass"
   ]
  },
  {
   "cell_type": "code",
   "execution_count": 17,
   "id": "ac9e20df",
   "metadata": {},
   "outputs": [
    {
     "data": {
      "text/plain": [
       "'annotations\\\\22.txt'"
      ]
     },
     "execution_count": 17,
     "metadata": {},
     "output_type": "execute_result"
    }
   ],
   "source": [
    "os.path.join(\"annotations\", info_dict[\"filename\"].replace(\"bmp\", \"txt\"))"
   ]
  },
  {
   "cell_type": "code",
   "execution_count": null,
   "id": "e6f1523b",
   "metadata": {},
   "outputs": [],
   "source": []
  }
 ],
 "metadata": {
  "kernelspec": {
   "display_name": "Python 3",
   "language": "python",
   "name": "python3"
  },
  "language_info": {
   "codemirror_mode": {
    "name": "ipython",
    "version": 3
   },
   "file_extension": ".py",
   "mimetype": "text/x-python",
   "name": "python",
   "nbconvert_exporter": "python",
   "pygments_lexer": "ipython3",
   "version": "3.8.8"
  }
 },
 "nbformat": 4,
 "nbformat_minor": 5
}
